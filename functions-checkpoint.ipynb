{
 "cells": [
  {
   "cell_type": "code",
   "execution_count": 6,
   "metadata": {},
   "outputs": [
    {
     "name": "stdout",
     "output_type": "stream",
     "text": [
      "9\n",
      "15\n",
      "41\n"
     ]
    }
   ],
   "source": [
    "def maxi(a,b,c):\n",
    "    if a > b and a > c:\n",
    "        return (a)\n",
    "    elif b > a and b >c:\n",
    "        return (b)\n",
    "    else: return (c)\n",
    "print (maxi(4,9,1))\n",
    "print (maxi(15,9,1))\n",
    "print (maxi(4,9,41))"
   ]
  },
  {
   "cell_type": "code",
   "execution_count": 10,
   "metadata": {},
   "outputs": [
    {
     "name": "stdout",
     "output_type": "stream",
     "text": [
      "418\n"
     ]
    }
   ],
   "source": [
    "def Max(x,y,z):\n",
    "    return (max(x,y,z))\n",
    "print (Max(7,55,418))"
   ]
  },
  {
   "cell_type": "code",
   "execution_count": 13,
   "metadata": {},
   "outputs": [
    {
     "name": "stdout",
     "output_type": "stream",
     "text": [
      "50 , 30\n"
     ]
    }
   ],
   "source": [
    "def calculation (m,n):\n",
    "    print(m+n ,\",\", m-n)\n",
    "calculation(40,10)"
   ]
  },
  {
   "cell_type": "code",
   "execution_count": 78,
   "metadata": {},
   "outputs": [
    {
     "name": "stdout",
     "output_type": "stream",
     "text": [
      "135\n",
      "67353660\n",
      "[11, 17, 23, 58.69]\n",
      "[5.399, 18, 3.33]\n",
      "list1 integer sum of even index = 109\n",
      "list1 integer multiply of odd index = 270\n"
     ]
    }
   ],
   "source": [
    "def summi (l1):\n",
    "    total = 0\n",
    "    for i in range(0, len(l1)):\n",
    "        total = total + int(l1[i])\n",
    "    return (total)\n",
    "def multy (l1):\n",
    "    k = 1\n",
    "    for i in range(0, len(l1)):\n",
    "        k = k * int(l1[i])\n",
    "    return(k)\n",
    "list1 = [11, 5.399, 17, 18, 23, 3.33, 58.69]\n",
    "print(summi(list1))\n",
    "print(multy(list1))\n",
    "list2 = list1[::2]\n",
    "list3 = list1[1::2]\n",
    "print (list2)\n",
    "print (list3)\n",
    "print (\"list1 integer sum of even index = \" + str(summi(list2)))\n",
    "print (\"list1 integer multiply of odd index = \" + str(multy(list3)))"
   ]
  },
  {
   "cell_type": "code",
   "execution_count": 96,
   "metadata": {},
   "outputs": [
    {
     "name": "stdout",
     "output_type": "stream",
     "text": [
      "write a string: green-red-yellow-black-white\n",
      "['green', 'red', 'yellow', 'black', 'white']\n",
      "black-green-red-white-yellow\n"
     ]
    }
   ],
   "source": [
    "n=input(\"write a string: \")\n",
    "l=n.split('-')\n",
    "print(l)\n",
    "l.sort()\n",
    "print('-'.join(l))"
   ]
  },
  {
   "cell_type": "code",
   "execution_count": null,
   "metadata": {},
   "outputs": [],
   "source": []
  },
  {
   "cell_type": "code",
   "execution_count": null,
   "metadata": {},
   "outputs": [],
   "source": []
  }
 ],
 "metadata": {
  "kernelspec": {
   "display_name": "Python 3",
   "language": "python",
   "name": "python3"
  },
  "language_info": {
   "codemirror_mode": {
    "name": "ipython",
    "version": 3
   },
   "file_extension": ".py",
   "mimetype": "text/x-python",
   "name": "python",
   "nbconvert_exporter": "python",
   "pygments_lexer": "ipython3",
   "version": "3.8.5"
  }
 },
 "nbformat": 4,
 "nbformat_minor": 4
}
